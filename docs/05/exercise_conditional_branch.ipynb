{
  "cells": [
    {
      "cell_type": "markdown",
      "metadata": {
        "id": "view-in-github",
        "colab_type": "text"
      },
      "source": [
        "<a href=\"https://colab.research.google.com/github/Tetta-Watanabe1/school/blob/main/docs/05/exercise_conditional_branch.ipynb\" target=\"_parent\"><img src=\"https://colab.research.google.com/assets/colab-badge.svg\" alt=\"Open In Colab\"/></a>"
      ]
    },
    {
      "cell_type": "markdown",
      "metadata": {
        "id": "VM3sH3jfyN5-"
      },
      "source": [
        "# 第5回：条件分岐（演習）\n",
        "\n",
        "学籍番号：B255451\n",
        "\n",
        "氏名：渡邊　鉄太\n",
        "\n",
        "---"
      ]
    },
    {
      "cell_type": "markdown",
      "metadata": {
        "id": "C8RVsHZHyN6A"
      },
      "source": [
        "## 演習1：真偽値と条件式\n",
        "\n",
        "### 例題\n",
        "\n",
        "「`temperature` が `25` より高い」を，比較演算子を用いて記述せよ．\n",
        "なお，変数 `temperature` にはあらかじめ条件式が「`True`」となる適当な数値を代入しておくこと．"
      ]
    },
    {
      "cell_type": "code",
      "execution_count": 61,
      "metadata": {
        "id": "qxi4H5VDyN6B",
        "outputId": "6430e042-e66e-4b97-a1d5-ece6e5e68a50",
        "colab": {
          "base_uri": "https://localhost:8080/"
        }
      },
      "outputs": [
        {
          "output_type": "execute_result",
          "data": {
            "text/plain": [
              "True"
            ]
          },
          "metadata": {},
          "execution_count": 61
        }
      ],
      "source": [
        "# 解答用セルの記入例\n",
        "temperature = 30\n",
        "\n",
        "temperature > 25"
      ]
    },
    {
      "cell_type": "markdown",
      "metadata": {
        "id": "v18JlHL9yN6B"
      },
      "source": [
        "### 演習1-1\n",
        "\n",
        "「`x` は `10` 以下である」を，比較演算子を用いて記述せよ．\n",
        "なお，変数 `x` にはあらかじめ条件式が「`True`」となる適当な数値を代入しておくこと．"
      ]
    },
    {
      "cell_type": "code",
      "execution_count": 62,
      "metadata": {
        "id": "n1pJC97uyN6C",
        "outputId": "1d34c486-8e9b-48a2-9946-82b5224c4091",
        "colab": {
          "base_uri": "https://localhost:8080/"
        }
      },
      "outputs": [
        {
          "output_type": "execute_result",
          "data": {
            "text/plain": [
              "True"
            ]
          },
          "metadata": {},
          "execution_count": 62
        }
      ],
      "source": [
        "# 解答用セル\n",
        "x = 10\n",
        "\n",
        "x <= 10"
      ]
    },
    {
      "cell_type": "markdown",
      "metadata": {
        "id": "cpkbkVECyN6C"
      },
      "source": [
        "### 演習1-2\n",
        "\n",
        "「`x` の絶対値は `5` より大きい」を，比較演算子を用いて記述せよ．\n",
        "なお，変数 `x` にはあらかじめ条件式が「`True`」となる適当な数値を代入しておくこと．\n",
        "\n",
        "**ヒント:** 絶対値を求めるには `abs()` 関数を使用する．"
      ]
    },
    {
      "cell_type": "code",
      "execution_count": 63,
      "metadata": {
        "id": "2wHGabDuyN6C",
        "outputId": "b1c7d720-a6ca-4138-a368-7159c9dd55bb",
        "colab": {
          "base_uri": "https://localhost:8080/"
        }
      },
      "outputs": [
        {
          "output_type": "execute_result",
          "data": {
            "text/plain": [
              "True"
            ]
          },
          "metadata": {},
          "execution_count": 63
        }
      ],
      "source": [
        "from typing_extensions import assert_never\n",
        "# 解答用セル\n",
        "x = -6\n",
        "\n",
        "abs(x) > 5"
      ]
    },
    {
      "cell_type": "markdown",
      "metadata": {
        "id": "5fMv-vxoyN6C"
      },
      "source": [
        "### 演習1-3\n",
        "\n",
        "「`word` は `\"Python\"` と等しい」を，比較演算子を用いて記述せよ．\n",
        "なお，変数 `word` にはあらかじめ条件式が「`True`」となる適当な文字列を代入しておくこと．"
      ]
    },
    {
      "cell_type": "code",
      "execution_count": 64,
      "metadata": {
        "id": "F1cx_aYIyN6C",
        "outputId": "5516a73a-4a78-4b76-c9bd-9dd4ea3780b2",
        "colab": {
          "base_uri": "https://localhost:8080/"
        }
      },
      "outputs": [
        {
          "output_type": "execute_result",
          "data": {
            "text/plain": [
              "True"
            ]
          },
          "metadata": {},
          "execution_count": 64
        }
      ],
      "source": [
        "# 解答用セル\n",
        "word = \"Python\"\n",
        "\n",
        "word == \"Python\""
      ]
    },
    {
      "cell_type": "markdown",
      "metadata": {
        "id": "qNADEAS9yN6D"
      },
      "source": [
        "### 演習1-4\n",
        "\n",
        "「リスト `[10, 20, 30, 40, 50]` の中に `35` が含まれていない」を比較演算子を用いて記述せよ．"
      ]
    },
    {
      "cell_type": "code",
      "execution_count": 65,
      "metadata": {
        "id": "rFm1LyEPyN6D",
        "outputId": "2108be83-dee0-4f20-f4d7-3962df9db625",
        "colab": {
          "base_uri": "https://localhost:8080/"
        }
      },
      "outputs": [
        {
          "output_type": "execute_result",
          "data": {
            "text/plain": [
              "False"
            ]
          },
          "metadata": {},
          "execution_count": 65
        }
      ],
      "source": [
        "# 解答用セル\n",
        "35 in [10, 20, 30, 40, 50]"
      ]
    },
    {
      "cell_type": "markdown",
      "metadata": {
        "id": "OWUS1ZQ_yN6D"
      },
      "source": [
        "### 演習1-5\n",
        "\n",
        "「文字列 `\"Hello, World!\"` に文字列 `\"World\"` が含まれている」を比較演算子を用いて記述せよ．\n",
        "\n",
        "**出力例**\n",
        "\n",
        "```python\n",
        "True\n",
        "```"
      ]
    },
    {
      "cell_type": "code",
      "execution_count": 66,
      "metadata": {
        "id": "NN2T5dDLyN6D",
        "outputId": "d60c4af8-dde3-46e2-b526-de0ef19dd7d2",
        "colab": {
          "base_uri": "https://localhost:8080/"
        }
      },
      "outputs": [
        {
          "output_type": "execute_result",
          "data": {
            "text/plain": [
              "True"
            ]
          },
          "metadata": {},
          "execution_count": 66
        }
      ],
      "source": [
        "# 解答用セル\n",
        "\"World\" in \"Hello, World\""
      ]
    },
    {
      "cell_type": "markdown",
      "metadata": {
        "id": "-IsupCAjyN6D"
      },
      "source": [
        "### 演習1-6\n",
        "\n",
        "「文字列 `text` の長さが5文字より長く，かつ10文字以下である」を，比較演算子と論理演算子を用いて記述せよ．\n",
        "なお，変数 `text` にはあらかじめ条件式が「`True`」となる適当な文字列を代入しておくこと．"
      ]
    },
    {
      "cell_type": "code",
      "execution_count": 67,
      "metadata": {
        "id": "5baFwl0YyN6D",
        "outputId": "dc6c894e-b27e-4657-dfed-a6d6c7b79744",
        "colab": {
          "base_uri": "https://localhost:8080/"
        }
      },
      "outputs": [
        {
          "output_type": "execute_result",
          "data": {
            "text/plain": [
              "True"
            ]
          },
          "metadata": {},
          "execution_count": 67
        }
      ],
      "source": [
        "# 解答用セル\n",
        "text = \"Hello!\"\n",
        "\n",
        "5 < len(text) and len(text) <= 10"
      ]
    },
    {
      "cell_type": "markdown",
      "metadata": {
        "id": "AVySxhb4yN6D"
      },
      "source": [
        "## 演習2：`if`文\n",
        "\n",
        "### 演習2-1\n",
        "\n",
        "変数 `score` の値が `80` より高い場合，「優秀です」と表示するプログラムを書け．\n",
        "なお，変数 `score` には適当な値を代入しておき，プログラムの実行結果も表示せよ．\n",
        "\n"
      ]
    },
    {
      "cell_type": "code",
      "execution_count": 68,
      "metadata": {
        "id": "GFemfwzoyN6D",
        "outputId": "a2897b72-2504-4dfa-e2f4-31be1b2a9940",
        "colab": {
          "base_uri": "https://localhost:8080/"
        }
      },
      "outputs": [
        {
          "output_type": "stream",
          "name": "stdout",
          "text": [
            "優秀です\n"
          ]
        }
      ],
      "source": [
        "# 解答用セル\n",
        "score = 100\n",
        "\n",
        "if score > 80:\n",
        "    print(\"優秀です\")"
      ]
    },
    {
      "cell_type": "markdown",
      "metadata": {
        "id": "hxWoWNSqyN6D"
      },
      "source": [
        "### 演習2-2\n",
        "\n",
        "変数 `number` の値が偶数の場合，「偶数です」と表示するプログラムを書け．\n",
        "なお，変数 `number` には適当な値を代入しておき，プログラムの実行結果も表示せよ．\n",
        "\n",
        "**ヒント:** 偶数は2で割り切れる数である．「割り切れる」を表現するためには，`a` を `3` で割った余りが `0` と等しくなればよい．\n",
        "余りの計算方法は [第1回](../01/introduction_and_setup.ipynb) または [第2回](../02/variables_and_data_types.ipynb) の教材を参照されたい．"
      ]
    },
    {
      "cell_type": "code",
      "execution_count": 69,
      "metadata": {
        "id": "Z0iD_pxdyN6D",
        "outputId": "9a8cbbf7-aaa5-4f6e-b152-aaf011c07799",
        "colab": {
          "base_uri": "https://localhost:8080/"
        }
      },
      "outputs": [
        {
          "output_type": "stream",
          "name": "stdout",
          "text": [
            "偶数です\n"
          ]
        }
      ],
      "source": [
        "# 解答用セル\n",
        "number = 50\n",
        "\n",
        "if number % 2 == 0:\n",
        "    print(\"偶数です\")"
      ]
    },
    {
      "cell_type": "markdown",
      "metadata": {
        "id": "dUlyY6SWyN6D"
      },
      "source": [
        "## 演習3：`if　... else`文\n",
        "\n",
        "### 演習3-1\n",
        "\n",
        "変数 `hour` の値が `12` 未満であれば「午前」，そうでなければ「午後」と表示するプログラムを作成せよ．\n",
        "なお，変数 `hour` には適当な値を代入しておき，プログラムの実行結果も表示せよ．"
      ]
    },
    {
      "cell_type": "code",
      "execution_count": 70,
      "metadata": {
        "id": "oSaFwlmHyN6D",
        "outputId": "7ad077b8-b346-4919-b078-2cb32e311276",
        "colab": {
          "base_uri": "https://localhost:8080/"
        }
      },
      "outputs": [
        {
          "output_type": "stream",
          "name": "stdout",
          "text": [
            "午前\n"
          ]
        }
      ],
      "source": [
        "# 解答用セル\n",
        "hour = 3\n",
        "\n",
        "if hour < 12:\n",
        "    print(\"午前\")\n",
        "else:\n",
        "    print(\"午後\")"
      ]
    },
    {
      "cell_type": "markdown",
      "metadata": {
        "id": "NGR92gKNyN6E"
      },
      "source": [
        "### 演習3-2\n",
        "\n",
        "変数 `number` の値が正の数であれば「正の数です」，そうでなければ「正の数ではありません」と表示するプログラムを作成せよ．\n",
        "なお，変数 `number` には適当な値を代入しておき，プログラムの実行結果も表示せよ．"
      ]
    },
    {
      "cell_type": "code",
      "execution_count": 71,
      "metadata": {
        "id": "Ho3fmprHyN6E",
        "outputId": "a2858107-5490-48e1-d149-f0bc63b264b1",
        "colab": {
          "base_uri": "https://localhost:8080/"
        }
      },
      "outputs": [
        {
          "output_type": "stream",
          "name": "stdout",
          "text": [
            "正の数です\n"
          ]
        }
      ],
      "source": [
        "# 解答用セル\n",
        "number = 5\n",
        "\n",
        "if number > 0:\n",
        "    print(\"正の数です\")\n",
        "else:\n",
        "    print(\"正の数ではありません\")"
      ]
    },
    {
      "cell_type": "markdown",
      "metadata": {
        "id": "0sJMx9x_yN6E"
      },
      "source": [
        "## 演習4：`if ... elif ... else`文\n",
        "\n",
        "### 演習4-1\n",
        "\n",
        "変数 `grade` に成績(0〜100の整数)が格納されているとする．\n",
        "次の基準に従って評価を表示するプログラムを作成せよ．\n",
        "\n",
        "- 80以上:「優」\n",
        "- 60以上80未満:「良」\n",
        "- 40以上60未満:「可」\n",
        "- 40未満:「不可」\n",
        "\n",
        "なお，変数 `grade` には適当な値を代入しておき，プログラムの実行結果も表示せよ．"
      ]
    },
    {
      "cell_type": "code",
      "execution_count": 72,
      "metadata": {
        "id": "etPu2mOtyN6E",
        "outputId": "f4a11345-680d-4259-95e4-913372f7a1e0",
        "colab": {
          "base_uri": "https://localhost:8080/"
        }
      },
      "outputs": [
        {
          "output_type": "stream",
          "name": "stdout",
          "text": [
            "優\n"
          ]
        }
      ],
      "source": [
        "# 解答用セル\n",
        "grade = 90\n",
        "\n",
        "if grade >= 80:\n",
        "    print(\"優\")\n",
        "elif grade >= 60:\n",
        "    print(\"良\")\n",
        "elif grade >= 40:\n",
        "    print(\"可\")\n",
        "else:\n",
        "    print(\"不可\")"
      ]
    },
    {
      "cell_type": "markdown",
      "metadata": {
        "id": "JhwuZ-DUyN6E"
      },
      "source": [
        "### 演習4-2\n",
        "\n",
        "変数 `temperature` に気温(℃)が格納されているとする．\n",
        "次の基準に従ってメッセージを表示するプログラムを作成せよ．\n",
        "\n",
        "- 30以上:「猛暑です」\n",
        "- 25以上30未満:「暑いです」\n",
        "- 15以上25未満:「過ごしやすいです」\n",
        "- 15未満:「寒いです」\n",
        "\n",
        "なお，変数 `temperature` には適当な値を代入しておき，プログラムの実行結果も表示せよ．"
      ]
    },
    {
      "cell_type": "code",
      "execution_count": 73,
      "metadata": {
        "id": "z0h7nX4KyN6E",
        "outputId": "ccd73f8a-fb70-402c-ab92-8d192dea0417",
        "colab": {
          "base_uri": "https://localhost:8080/"
        }
      },
      "outputs": [
        {
          "output_type": "stream",
          "name": "stdout",
          "text": [
            "暑いです\n"
          ]
        }
      ],
      "source": [
        "# 解答用セル\n",
        "temperature = 27\n",
        "\n",
        "if temperature >= 30:\n",
        "    print(\"猛暑です\")\n",
        "elif temperature >= 25:\n",
        "    print(\"暑いです\")\n",
        "elif temperature >= 15:\n",
        "    print(\"過ごしやすいです\")\n",
        "else:\n",
        "    print(\"寒いです\")"
      ]
    },
    {
      "cell_type": "markdown",
      "metadata": {
        "id": "7BtbEHGiyN6E"
      },
      "source": [
        "## 演習5：複数条件の組み合わせ"
      ]
    },
    {
      "cell_type": "markdown",
      "metadata": {
        "id": "oZLp-DmAyN6E"
      },
      "source": [
        "### 演習5-1\n",
        "\n",
        "変数 `x` の値が「10以上」かつ「20以下」の場合のみ「範囲内です」と表示し，そうでない場合は「範囲外です」と表示するプログラムを作成せよ．\n",
        "なお，変数 `x` には適当な値を代入しておき，プログラムの実行結果も表示せよ．"
      ]
    },
    {
      "cell_type": "code",
      "execution_count": 74,
      "metadata": {
        "id": "rK7QOmseyN6E",
        "outputId": "f543cfed-3c5f-430c-ff7d-abc685e068f0",
        "colab": {
          "base_uri": "https://localhost:8080/"
        }
      },
      "outputs": [
        {
          "output_type": "stream",
          "name": "stdout",
          "text": [
            "範囲内です\n"
          ]
        }
      ],
      "source": [
        "# 解答用セル\n",
        "x = 14\n",
        "\n",
        "if x >= 10 and x <= 20:\n",
        "    print(\"範囲内です\")\n",
        "else:\n",
        "    print(\"範囲外です\")"
      ]
    },
    {
      "cell_type": "markdown",
      "metadata": {
        "id": "s5aedceqyN6E"
      },
      "source": [
        "### 演習5-2\n",
        "\n",
        "変数 `fruit` に果物の名前(文字列)が格納されているとする．\n",
        "`fruit` が `\"apple\"`, `\"orange\"`, `\"banana\"` のいずれかである場合は「取り扱いがあります」，そうでない場合は「取り扱いがありません」と表示するプログラムを作成せよ．\n",
        "\n",
        "なお，変数 `fruit` には適当な果物名(文字列)を代入しておき，プログラムの実行結果も表示せよ．"
      ]
    },
    {
      "cell_type": "code",
      "execution_count": 75,
      "metadata": {
        "id": "IJFjZM0ZyN6E",
        "outputId": "5f545348-4683-4dd4-80f9-b20172f84197",
        "colab": {
          "base_uri": "https://localhost:8080/"
        }
      },
      "outputs": [
        {
          "output_type": "stream",
          "name": "stdout",
          "text": [
            "取り扱いがあります\n"
          ]
        }
      ],
      "source": [
        "# 解答用セル\n",
        "fruit = \"orange\"\n",
        "\n",
        "if fruit in [\"apple\", \"orange\", \"banana\"]:\n",
        "    print(\"取り扱いがあります\")\n",
        "else:\n",
        "    print(\"取り扱いがありません\")"
      ]
    },
    {
      "cell_type": "markdown",
      "metadata": {
        "id": "EnUacY-gyN6E"
      },
      "source": [
        "## 演習6：発展課題\n",
        "\n",
        "これ以降は発展的な演習課題となります．\n",
        "解くことは必須ではありませんが，条件分岐を応用する良い練習になるので，ぜひチャレンジしてみてください．\n",
        "\n",
        "### 演習6-1：FizzBuzz問題\n",
        "\n",
        "変数 `number` の値に対し，次のことを出力せよ．\n",
        "\n",
        "- `3` で割り切れて `5` で割り切れないときは「`Fizz`」と出力\n",
        "- `5` で割り切れて `3` で割り切れない時は「`Buzz`」と出力\n",
        "- 両方で割り切れるときは「`FizzBuzz`」と出力\n",
        "- 両方で割り切れないときは，入力した数をそのまま出力\n",
        "\n",
        "なお，変数 `number` には適当な値を代入し，プログラムの実行結果も表示せよ．"
      ]
    },
    {
      "cell_type": "code",
      "execution_count": 76,
      "metadata": {
        "id": "FnTjYhxeyN6E",
        "outputId": "679256c6-19b9-4969-99e7-5c814d777b55",
        "colab": {
          "base_uri": "https://localhost:8080/"
        }
      },
      "outputs": [
        {
          "output_type": "stream",
          "name": "stdout",
          "text": [
            "FizzBuzz\n"
          ]
        }
      ],
      "source": [
        "# 解答用セル\n",
        "number = 30\n",
        "\n",
        "if number % 3 == 0 and number % 5 == 0:\n",
        "    print(\"FizzBuzz\")\n",
        "elif number % 3 == 0:\n",
        "    print(\"Fizz\")\n",
        "elif number % 5 == 0:\n",
        "    print(\"Buzz\")\n",
        "else:\n",
        "    print(number)"
      ]
    },
    {
      "cell_type": "markdown",
      "metadata": {
        "id": "BScR_cnayN6E"
      },
      "source": [
        "### 演習6-2：3の倍数と3のつく数\n",
        "\n",
        "変数 `number` の値に対し，3の倍数と3のつく数の時だけ「3に関する数です」と出力するプログラムを作成せよ．なお，変数 `number` には適当な値を代入し，プログラムの実行結果も表示せよ．"
      ]
    },
    {
      "cell_type": "code",
      "execution_count": 77,
      "metadata": {
        "id": "CQN_ayjpyN6E",
        "outputId": "50017844-bc60-4bb5-b08b-e9edfc395b0a",
        "colab": {
          "base_uri": "https://localhost:8080/"
        }
      },
      "outputs": [
        {
          "output_type": "stream",
          "name": "stdout",
          "text": [
            "3に関する数です\n"
          ]
        }
      ],
      "source": [
        "# 解答用セル\n",
        "number = 23\n",
        "\n",
        "if number % 3 == 0 or str(3) in str(number):\n",
        "    print(\"3に関する数です\")"
      ]
    },
    {
      "cell_type": "markdown",
      "metadata": {
        "id": "EQFgwbvOyN6E"
      },
      "source": [
        "### 演習6-3：三角形の判定\n",
        "\n",
        "変数 `a`, `b`, `c` に三角形の3辺の長さ(正の数)が格納されているとする．\n",
        "これらの値が三角形を構成できるかどうかを判定し，構成できる場合はさらに正三角形，二等辺三角形，不等辺三角形のいずれかを判定するプログラムを作成せよ．\n",
        "\n",
        "**三角形の条件:** 任意の2辺の和が残りの1辺より大きい\n",
        "- 正三角形: 3辺がすべて等しい\n",
        "- 二等辺三角形: 2辺が等しい\n",
        "- 不等辺三角形: すべての辺が異なる\n",
        "\n",
        "**ヒント:** まず三角形を構成できるか判定し，その後で三角形の種類を判定しよう．"
      ]
    },
    {
      "cell_type": "code",
      "execution_count": 78,
      "metadata": {
        "id": "Lts4FfOpyN6E",
        "outputId": "b2754452-1325-4f5f-9d35-82f15906a58f",
        "colab": {
          "base_uri": "https://localhost:8080/"
        }
      },
      "outputs": [
        {
          "output_type": "stream",
          "name": "stdout",
          "text": [
            "二等辺三角形\n"
          ]
        }
      ],
      "source": [
        "# 解答用セル\n",
        "a = 7\n",
        "b = 8\n",
        "c = 7\n",
        "\n",
        "if a + b > c and b + c > a and c + a > b:\n",
        "    if a == b and b == c and c == a:\n",
        "        print(\"正三角形\")\n",
        "    elif a == b or b == c or c == a:\n",
        "        print(\"二等辺三角形\")\n",
        "    else:\n",
        "        print(\"不等辺三角形\")\n",
        "else:\n",
        "    print(\"三角形構成不可\")"
      ]
    }
  ],
  "metadata": {
    "kernelspec": {
      "display_name": "Python 3.9.7 ('zeropro-book')",
      "language": "python",
      "name": "python3"
    },
    "language_info": {
      "codemirror_mode": {
        "name": "ipython",
        "version": 3
      },
      "file_extension": ".py",
      "mimetype": "text/x-python",
      "name": "python",
      "nbconvert_exporter": "python",
      "pygments_lexer": "ipython3",
      "version": "3.9.7"
    },
    "orig_nbformat": 4,
    "vscode": {
      "interpreter": {
        "hash": "13b92c06b6e5ed457c2ffbe8aafd0597ab041ad1a918995ab3a6bf23080bab16"
      }
    },
    "colab": {
      "provenance": [],
      "include_colab_link": true
    }
  },
  "nbformat": 4,
  "nbformat_minor": 0
}