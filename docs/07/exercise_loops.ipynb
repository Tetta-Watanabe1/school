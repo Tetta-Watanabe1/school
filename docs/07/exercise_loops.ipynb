{
  "cells": [
    {
      "cell_type": "markdown",
      "metadata": {
        "id": "view-in-github",
        "colab_type": "text"
      },
      "source": [
        "<a href=\"https://colab.research.google.com/github/Tetta-Watanabe1/school/blob/main/docs/07/exercise_loops.ipynb\" target=\"_parent\"><img src=\"https://colab.research.google.com/assets/colab-badge.svg\" alt=\"Open In Colab\"/></a>"
      ]
    },
    {
      "cell_type": "markdown",
      "metadata": {
        "id": "3Nf34Vv5Gi0l"
      },
      "source": [
        "# 第7回：繰り返し処理（演習）\n",
        "\n",
        "学籍番号：B255451\n",
        "\n",
        "氏名：渡邊鉄太\n",
        "\n",
        "---"
      ]
    },
    {
      "cell_type": "markdown",
      "metadata": {
        "id": "zMyWPhMgGi0n"
      },
      "source": [
        "## 演習1:`for`文による繰り返し処理"
      ]
    },
    {
      "cell_type": "markdown",
      "metadata": {
        "id": "ZgPUfK6aGi0n"
      },
      "source": [
        "### 演習1-1\n",
        "以下の出力結果となるように`range`関数と`for`文を用いて処理を作成せよ．\n",
        "\n",
        "**出力**\n",
        "```python\n",
        "1\n",
        "3\n",
        "9\n",
        "27\n",
        "81\n",
        "243\n",
        "729\n",
        "2187\n",
        "6561\n",
        "```\n"
      ]
    },
    {
      "cell_type": "code",
      "execution_count": 3,
      "metadata": {
        "id": "EQGP1WhMGi0n",
        "outputId": "02bea24c-b6a6-451c-9720-1c5cd72ad35f",
        "colab": {
          "base_uri": "https://localhost:8080/"
        }
      },
      "outputs": [
        {
          "output_type": "stream",
          "name": "stdout",
          "text": [
            "1\n",
            "3\n",
            "9\n",
            "27\n",
            "81\n",
            "243\n",
            "729\n",
            "2187\n",
            "6561\n"
          ]
        }
      ],
      "source": [
        "# 解答用セル\n",
        "x = 1\n",
        "for i in range(9):\n",
        "    print(x)\n",
        "    x = x * 3"
      ]
    },
    {
      "cell_type": "markdown",
      "metadata": {
        "id": "SloQ6w3OGi0o"
      },
      "source": [
        "### 演習1-2\n",
        "`range`関数と`for`文を用いて以下の要素を持つリストを作成せよ．\n",
        "\n",
        "ヒント：`append`関数を使うとリストに要素を追加できる．\n",
        "\n",
        "**出力**\n",
        "```python\n",
        "[0, 3, 6, 9, 12, 15, 18, 21, 24, 27, 30]\n",
        "```\n"
      ]
    },
    {
      "cell_type": "code",
      "execution_count": 8,
      "metadata": {
        "id": "v3zx65RsGi0o",
        "outputId": "982e4ecb-f062-478b-cb8e-d7468521936b",
        "colab": {
          "base_uri": "https://localhost:8080/"
        }
      },
      "outputs": [
        {
          "output_type": "stream",
          "name": "stdout",
          "text": [
            "[0, 3, 6, 9, 12, 15, 18, 21, 24, 27, 30]\n"
          ]
        }
      ],
      "source": [
        "# 解答用セル\n",
        "ls=[]\n",
        "\n",
        "for i in range(0, 31, 3):\n",
        "    ls.append(i)\n",
        "\n",
        "print(ls)"
      ]
    },
    {
      "cell_type": "markdown",
      "metadata": {
        "id": "EXd1K_laGi0o"
      },
      "source": [
        "### 演習1-3\n",
        "`for`文は文字列も繰り返すことができる．文字列`python`を作成し，リストの代わりに文字列を`for`文で繰り返した結果を確認せよ．正しく実行ができると以下の出力結果となるはずである．\n",
        "\n",
        "**出力**\n",
        "```python\n",
        "p\n",
        "y\n",
        "t\n",
        "h\n",
        "o\n",
        "n\n",
        "```\n"
      ]
    },
    {
      "cell_type": "code",
      "execution_count": 11,
      "metadata": {
        "id": "-V7qC9pKGi0o",
        "outputId": "6f1a29e7-744f-4e50-e965-c4c0e16493c2",
        "colab": {
          "base_uri": "https://localhost:8080/"
        }
      },
      "outputs": [
        {
          "output_type": "stream",
          "name": "stdout",
          "text": [
            "p\n",
            "y\n",
            "t\n",
            "h\n",
            "o\n",
            "n\n"
          ]
        }
      ],
      "source": [
        "# 解答用セル\n",
        "for i in \"python\":\n",
        "    print(i)"
      ]
    },
    {
      "cell_type": "markdown",
      "metadata": {
        "id": "jg_CJBL-Gi0p"
      },
      "source": [
        "### 演習1-4\n",
        "演習1-3をベースに文字列からの文字の取り出しと，繰り返し回数を同時に出力せよ．\n",
        "参考までに以下のような出力例が得られると良い．\n",
        "\n",
        "**出力**\n",
        "```python\n",
        "文字: p - 繰り返し回数: 1\n",
        "文字: y - 繰り返し回数: 2\n",
        "文字: t - 繰り返し回数: 3\n",
        "文字: h - 繰り返し回数: 4\n",
        "文字: o - 繰り返し回数: 5\n",
        "文字: n - 繰り返し回数: 6\n",
        "```\n"
      ]
    },
    {
      "cell_type": "code",
      "execution_count": 16,
      "metadata": {
        "id": "qPZrZhAbGi0p",
        "outputId": "eec6665c-6844-49c2-b1be-23141ef9d625",
        "colab": {
          "base_uri": "https://localhost:8080/"
        }
      },
      "outputs": [
        {
          "output_type": "stream",
          "name": "stdout",
          "text": [
            "文字: p - 繰り返し回数: 1\n",
            "文字: y - 繰り返し回数: 2\n",
            "文字: t - 繰り返し回数: 3\n",
            "文字: h - 繰り返し回数: 4\n",
            "文字: o - 繰り返し回数: 5\n",
            "文字: n - 繰り返し回数: 6\n"
          ]
        }
      ],
      "source": [
        "# 解答用セル\n",
        "v = 0\n",
        "for i in \"python\":\n",
        "    v += 1\n",
        "    print(f\"文字: {i} - 繰り返し回数: {v}\")"
      ]
    },
    {
      "cell_type": "markdown",
      "metadata": {
        "id": "rR9B93hNGi0p"
      },
      "source": [
        "## 演習2:繰り返し処理と条件分岐"
      ]
    },
    {
      "cell_type": "markdown",
      "metadata": {
        "id": "fKzsWUKqGi0p"
      },
      "source": [
        "### 演習2-1\n",
        "5から25までの整数を出力する際に，その数が偶数であれば\"偶数\"，奇数であれば\"奇数\"と出力するプログラムを繰り返し処理を用いて作成せよ\n",
        "\n",
        "**出力**\n",
        "```python\n",
        "5: 奇数\n",
        "6: 偶数\n",
        "7: 奇数\n",
        "8: 偶数\n",
        "...\n",
        "25: 奇数\n",
        "```\n"
      ]
    },
    {
      "cell_type": "code",
      "execution_count": 18,
      "metadata": {
        "id": "2FW03fB0Gi0p",
        "outputId": "8224c3c7-79d6-4e9d-fcd0-a5f16ff03ed6",
        "colab": {
          "base_uri": "https://localhost:8080/"
        }
      },
      "outputs": [
        {
          "output_type": "stream",
          "name": "stdout",
          "text": [
            "5: 奇数\n",
            "6: 偶数\n",
            "7: 奇数\n",
            "8: 偶数\n",
            "9: 奇数\n",
            "10: 偶数\n",
            "11: 奇数\n",
            "12: 偶数\n",
            "13: 奇数\n",
            "14: 偶数\n",
            "15: 奇数\n",
            "16: 偶数\n",
            "17: 奇数\n",
            "18: 偶数\n",
            "19: 奇数\n",
            "20: 偶数\n",
            "21: 奇数\n",
            "22: 偶数\n",
            "23: 奇数\n",
            "24: 偶数\n",
            "25: 奇数\n"
          ]
        }
      ],
      "source": [
        "# 解答用セル\n",
        "for i in range(5, 26):\n",
        "    if i % 2 == 1:\n",
        "        print(f\"{i}: 奇数\")\n",
        "    else:\n",
        "        print(f\"{i}: 偶数\")"
      ]
    },
    {
      "cell_type": "markdown",
      "metadata": {
        "id": "wNJ4ZXf2Gi0p"
      },
      "source": [
        "### 演習2-2\n",
        "以下の点数リストが与えられたとき，70点以上の点数を取った人は何人いるかを計算するプログラムを作成せよ．\n",
        "\n",
        "点数リスト: `[52, 91, 67, 88, 74, 60, 83, 70]`\n"
      ]
    },
    {
      "cell_type": "code",
      "execution_count": 23,
      "metadata": {
        "id": "zZTqI3wPGi0p",
        "outputId": "7bc793f2-c9db-4d82-cd92-4bd80259abc2",
        "colab": {
          "base_uri": "https://localhost:8080/"
        }
      },
      "outputs": [
        {
          "output_type": "stream",
          "name": "stdout",
          "text": [
            "70点以上の人数: 5人\n"
          ]
        }
      ],
      "source": [
        "# 解答用セル\n",
        "v = 0\n",
        "point = [52, 91, 67, 88, 74, 60, 83, 70]\n",
        "for i in range(len(point)):\n",
        "    if point[i] >= 70:\n",
        "        v += 1\n",
        "\n",
        "print(f\"70点以上の人数: {v}人\")"
      ]
    },
    {
      "cell_type": "markdown",
      "metadata": {
        "id": "DM_HGGsbGi0p"
      },
      "source": [
        "### 演習2-3\n",
        "以下の点数リストが与えられたとき，平均点を計算するプログラムを作成せよ．\n",
        "\n",
        "点数リスト: `[52, 91, 67, 88, 74, 60, 83, 70]`\n"
      ]
    },
    {
      "cell_type": "code",
      "execution_count": 24,
      "metadata": {
        "id": "cW1kL0VDGi0q",
        "outputId": "3ad1cbb1-92a2-4e25-c024-da88be1627ae",
        "colab": {
          "base_uri": "https://localhost:8080/"
        }
      },
      "outputs": [
        {
          "output_type": "stream",
          "name": "stdout",
          "text": [
            "73.125\n"
          ]
        }
      ],
      "source": [
        "# 解答用セル\n",
        "sum = 0\n",
        "point = [52, 91, 67, 88, 74, 60, 83, 70]\n",
        "for i in range(len(point)):\n",
        "    sum += point[i]\n",
        "\n",
        "print(sum / len(point))"
      ]
    },
    {
      "cell_type": "markdown",
      "metadata": {
        "id": "WrnXjTrOGi0q"
      },
      "source": [
        "### 演習2-4\n",
        "文字列 `abracadabradabra` の中に含まれる `a` の数を繰り返し処理を用いて計算せよ．\n"
      ]
    },
    {
      "cell_type": "code",
      "execution_count": 26,
      "metadata": {
        "id": "FpJfg0_rGi0q",
        "outputId": "948bd864-d498-43a9-89b2-306f482fc32b",
        "colab": {
          "base_uri": "https://localhost:8080/"
        }
      },
      "outputs": [
        {
          "output_type": "stream",
          "name": "stdout",
          "text": [
            "aの数7\n"
          ]
        }
      ],
      "source": [
        "# 解答用セル\n",
        "v = 0\n",
        "for i in \"abracadabradabra\":\n",
        "    if i == \"a\":\n",
        "        v += 1\n",
        "\n",
        "print(f\"aの数{v}\")"
      ]
    },
    {
      "cell_type": "markdown",
      "metadata": {
        "id": "Dtm5dUTzGi0q"
      },
      "source": [
        "### 演習2-5\n",
        "以下の出力のように${1,2,...,999}$の数の中で$135$で割り切れる値をすべて出力せよ\n",
        "\n",
        "**出力**\n",
        "```python\n",
        "135\n",
        "270\n",
        "405\n",
        "540\n",
        "675\n",
        "810\n",
        "945\n",
        "```\n"
      ]
    },
    {
      "cell_type": "code",
      "execution_count": 27,
      "metadata": {
        "id": "X2Ve02aMGi0q",
        "outputId": "4feced97-0a5d-4250-b2d3-1aebeb5fa1e9",
        "colab": {
          "base_uri": "https://localhost:8080/"
        }
      },
      "outputs": [
        {
          "output_type": "stream",
          "name": "stdout",
          "text": [
            "135\n",
            "270\n",
            "405\n",
            "540\n",
            "675\n",
            "810\n",
            "945\n"
          ]
        }
      ],
      "source": [
        "# 解答用セル\n",
        "for i in range(1, 1000):\n",
        "    if i % 135 == 0:\n",
        "        print(i)"
      ]
    },
    {
      "cell_type": "markdown",
      "metadata": {
        "id": "NJBPobZTGi0q"
      },
      "source": [
        "## 演習3:繰り返し処理と数列"
      ]
    },
    {
      "cell_type": "markdown",
      "metadata": {
        "id": "-3GM6ec6Gi0q"
      },
      "source": [
        "### 演習3-1\n",
        "1から15までの整数の総和（与えられた複数の数を全て足した和のこと）を求めるプログラムを`for`文を使用して作成せよ\n",
        "\n",
        "**出力**\n",
        "```python\n",
        "120\n",
        "```\n"
      ]
    },
    {
      "cell_type": "code",
      "execution_count": 29,
      "metadata": {
        "id": "KlqWdGS5Gi0q",
        "outputId": "f12a6832-f6c0-4fb7-c124-0f7cadf97dbb",
        "colab": {
          "base_uri": "https://localhost:8080/"
        }
      },
      "outputs": [
        {
          "output_type": "stream",
          "name": "stdout",
          "text": [
            "120\n"
          ]
        }
      ],
      "source": [
        "# 解答用セル\n",
        "v = 0\n",
        "for i in range(1, 16):\n",
        "    v += i\n",
        "\n",
        "print(v)"
      ]
    },
    {
      "cell_type": "markdown",
      "metadata": {
        "id": "3VD3sKAjGi0q"
      },
      "source": [
        "### 演習3-2\n",
        "1から6までの整数の総乗（与えられた複数の数を全て掛けた積のこと）を求めるプログラムを`for`文を使用して作成せよ\n",
        "\n",
        "**出力**\n",
        "```python\n",
        "720\n",
        "```\n"
      ]
    },
    {
      "cell_type": "code",
      "execution_count": 32,
      "metadata": {
        "id": "SAiCt0h2Gi0q",
        "outputId": "ffde41c0-ea68-4bb0-91f5-2ac1d52eec59",
        "colab": {
          "base_uri": "https://localhost:8080/"
        }
      },
      "outputs": [
        {
          "output_type": "stream",
          "name": "stdout",
          "text": [
            "720\n"
          ]
        }
      ],
      "source": [
        "# 解答用セル\n",
        "start = 1\n",
        "end = 6\n",
        "\n",
        "v = start\n",
        "for i in range(start + 1, end + 1):\n",
        "    v *= i\n",
        "\n",
        "print(v)"
      ]
    },
    {
      "cell_type": "markdown",
      "metadata": {
        "id": "ntRInKEcGi0q"
      },
      "source": [
        "### 演習3-3\n",
        "1から`n`までの整数の総和と総乗を求めるプログラムを`for`文を使用して作成せよ．\n",
        "\n",
        "ただし出力時は `n` に8以上の任意の値を代入せよ．\n",
        "\n",
        "**出力 (n=8の場合)**\n",
        "```python\n",
        "総和: 36\n",
        "総乗: 40320\n",
        "```\n"
      ]
    },
    {
      "cell_type": "code",
      "execution_count": 35,
      "metadata": {
        "id": "aRUP6d8dGi0q",
        "outputId": "feb2a2e8-c767-4811-ab88-cc8004126fc9",
        "colab": {
          "base_uri": "https://localhost:8080/"
        }
      },
      "outputs": [
        {
          "output_type": "stream",
          "name": "stdout",
          "text": [
            "総和: 36\n",
            "総乗; 40320\n"
          ]
        }
      ],
      "source": [
        "# 解答用セル\n",
        "start = 1\n",
        "n = 8\n",
        "sum = start\n",
        "mul = start\n",
        "for i in range(start + 1, n + 1):\n",
        "    sum += i\n",
        "    mul *= i\n",
        "\n",
        "print(f\"総和: {sum}\")\n",
        "print(f\"総乗; {mul}\")"
      ]
    },
    {
      "cell_type": "markdown",
      "metadata": {
        "id": "hq6rbEmrGi0q"
      },
      "source": [
        "### 演習3-4\n",
        "以下の式は奇数列 $1, 3, 5, 7, \\dots$ の $n$ 項までの総和を表す．\n",
        "\n",
        "$$\n",
        "S = \\sum_{k=1}^{n} (2k - 1)\n",
        "$$\n",
        "\n",
        "$n=12$ としたとき，この和 $S$ を繰り返し処理で求めよ．\n",
        "\n",
        "結果は次のようになるはずである．\n",
        "\n",
        "$$\n",
        "S = 1 + 3 + 5 + 7 + 9 + 11 + 13 + 15 + 17 + 19 + 21 + 23 = 144\n",
        "$$\n"
      ]
    },
    {
      "cell_type": "code",
      "execution_count": 46,
      "metadata": {
        "id": "xBk5qo0rGi0q",
        "outputId": "136755ca-0d98-4199-b6d2-099c622367a2",
        "colab": {
          "base_uri": "https://localhost:8080/"
        }
      },
      "outputs": [
        {
          "output_type": "stream",
          "name": "stdout",
          "text": [
            "S = 144\n"
          ]
        }
      ],
      "source": [
        "# 解答用セル\n",
        "n = 12\n",
        "S = 0\n",
        "for i in range(1, n + 1):\n",
        "    S += ((2 * i) - 1)\n",
        "\n",
        "print(f\"S = {S}\")"
      ]
    },
    {
      "cell_type": "markdown",
      "metadata": {
        "id": "brZSOMfZGi0q"
      },
      "source": [
        "## 演習4:発展課題\n",
        "これ以降は発展的な演習課題となります． 解くことは必須ではありませんがぜひチャレンジしてみてください．"
      ]
    },
    {
      "cell_type": "markdown",
      "metadata": {
        "id": "00wgFmxFGi0q"
      },
      "source": [
        "### 演習4-1\n",
        "繰り返し処理を使って以下のようなピラミッドの文字列を出力を得よ．\n",
        "\n",
        "**出力**\n",
        "```:python\n",
        "     2\n",
        "    333\n",
        "   44444\n",
        "  5555555\n",
        " 666666666\n",
        "```\n"
      ]
    },
    {
      "cell_type": "code",
      "execution_count": 55,
      "metadata": {
        "id": "I6jIsMeBGi0q",
        "outputId": "d1079f8b-8408-4a9e-98ad-8af4e0e8770a",
        "colab": {
          "base_uri": "https://localhost:8080/"
        }
      },
      "outputs": [
        {
          "output_type": "stream",
          "name": "stdout",
          "text": [
            "     2\n",
            "    333\n",
            "   44444\n",
            "  5555555\n",
            " 666666666\n"
          ]
        }
      ],
      "source": [
        "# 解答用セル\n",
        "start = 2\n",
        "end = 6\n",
        "v = 1\n",
        "for i in range(start, end + 1):\n",
        "    spaces = ' ' * (end + 1 - i)\n",
        "    numbers = str(i) * (v)\n",
        "    v += 2\n",
        "    print(spaces + numbers)"
      ]
    },
    {
      "cell_type": "markdown",
      "metadata": {
        "id": "zc4KWBoTGi0q"
      },
      "source": [
        "### 演習4-2\n",
        "\n",
        "条件分岐の発展課題のFizzBuzz問題を繰り返し処理で拡張する．\n",
        "変数 `number` の値を `1` から `30` まで繰り返し，`number` が\n",
        "\n",
        "- `3` で割り切れて `5` で割り切れないときは「`Fizz`」と出力\n",
        "- `5` で割り切れて `3` で割り切れない時は「`Buzz`」と出力\n",
        "- 両方で割り切れるときは「`FizzBuzz`」と出力\n",
        "- 両方で割り切れないときは，入力した数をそのまま出力\n",
        "\n",
        "とされるような繰り返し処理を実装せよ．\n",
        "\n",
        "出力例は以下である．\n",
        "\n",
        "```:python\n",
        "1\n",
        "2\n",
        "Fizz\n",
        "4\n",
        "Buzz\n",
        "Fizz\n",
        "7\n",
        "8\n",
        "Fizz\n",
        "Buzz\n",
        "11\n",
        "Fizz\n",
        "13\n",
        "14\n",
        "FizzBuzz\n",
        "16\n",
        "17\n",
        "Fizz\n",
        "19\n",
        "Buzz\n",
        "Fizz\n",
        "22\n",
        "23\n",
        "Fizz\n",
        "Buzz\n",
        "26\n",
        "Fizz\n",
        "28\n",
        "29\n",
        "FizzBuzz\n",
        "```\n"
      ]
    },
    {
      "cell_type": "code",
      "execution_count": 57,
      "metadata": {
        "id": "HdWD7OENGi0q",
        "outputId": "9fb9c539-75b7-41a8-ae52-e0667b2dd171",
        "colab": {
          "base_uri": "https://localhost:8080/"
        }
      },
      "outputs": [
        {
          "output_type": "stream",
          "name": "stdout",
          "text": [
            "1\n",
            "2\n",
            "Fizz\n",
            "4\n",
            "Buzz\n",
            "Fizz\n",
            "7\n",
            "8\n",
            "Fizz\n",
            "Buzz\n",
            "11\n",
            "Fizz\n",
            "13\n",
            "14\n",
            "FizzBuzz\n",
            "16\n",
            "17\n",
            "Fizz\n",
            "19\n",
            "Buzz\n",
            "Fizz\n",
            "22\n",
            "23\n",
            "Fizz\n",
            "Buzz\n",
            "26\n",
            "Fizz\n",
            "28\n",
            "29\n",
            "FizzBuzz\n"
          ]
        }
      ],
      "source": [
        "# 解答用セル\n",
        "for i in range(1, 31):\n",
        "    if i % 3 == 0 and i % 5 == 0:\n",
        "        print(\"FizzBuzz\")\n",
        "    elif i % 3 == 0:\n",
        "        print(\"Fizz\")\n",
        "    elif i % 5 == 0:\n",
        "        print(\"Buzz\")\n",
        "    else:\n",
        "        print(i)"
      ]
    }
  ],
  "metadata": {
    "kernelspec": {
      "display_name": "ml-py39",
      "language": "python",
      "name": "python3"
    },
    "language_info": {
      "codemirror_mode": {
        "name": "ipython",
        "version": 3
      },
      "file_extension": ".py",
      "mimetype": "text/x-python",
      "name": "python",
      "nbconvert_exporter": "python",
      "pygments_lexer": "ipython3",
      "version": "3.9.13"
    },
    "orig_nbformat": 4,
    "colab": {
      "provenance": [],
      "include_colab_link": true
    }
  },
  "nbformat": 4,
  "nbformat_minor": 0
}