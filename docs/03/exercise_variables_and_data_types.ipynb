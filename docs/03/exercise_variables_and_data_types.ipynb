{
  "cells": [
    {
      "cell_type": "markdown",
      "metadata": {
        "id": "view-in-github",
        "colab_type": "text"
      },
      "source": [
        "<a href=\"https://colab.research.google.com/github/Tetta-Watanabe1/school/blob/main/docs/03/exercise_variables_and_data_types.ipynb\" target=\"_parent\"><img src=\"https://colab.research.google.com/assets/colab-badge.svg\" alt=\"Open In Colab\"/></a>"
      ]
    },
    {
      "cell_type": "markdown",
      "metadata": {
        "id": "mpUmXejjI4OH"
      },
      "source": [
        "# 第3回：変数（演習）\n",
        "\n",
        "学籍番号：B255451\n",
        "\n",
        "氏名：渡邊　鉄太\n",
        "\n",
        "---"
      ]
    },
    {
      "cell_type": "markdown",
      "metadata": {
        "id": "WOdvjIdkI4OH"
      },
      "source": [
        "## 演習：変数の代入・出力・型の確認"
      ]
    },
    {
      "cell_type": "markdown",
      "metadata": {
        "id": "tOboSwuuI4OI"
      },
      "source": [
        "### 演習1\n",
        "浮動小数点数 `3.14` を変数 `pi` に代入し，`print`文を利用して変数を出力せよ"
      ]
    },
    {
      "cell_type": "code",
      "execution_count": 27,
      "metadata": {
        "colab": {
          "base_uri": "https://localhost:8080/"
        },
        "id": "dRNGz5WJI4OI",
        "outputId": "0eb21b7f-1c3b-4859-c9b7-f9393af2ad38"
      },
      "outputs": [
        {
          "output_type": "stream",
          "name": "stdout",
          "text": [
            "3.14\n"
          ]
        }
      ],
      "source": [
        "# 解答用セル\n",
        "pi = 3.14\n",
        "print(pi)"
      ]
    },
    {
      "cell_type": "markdown",
      "metadata": {
        "id": "VJ1kxovRI4OI"
      },
      "source": [
        "### 演習2\n",
        "文字列 `Hello, World!` を変数 `greeting` に代入し，`print`文を利用して変数を出力せよ"
      ]
    },
    {
      "cell_type": "code",
      "execution_count": 28,
      "metadata": {
        "colab": {
          "base_uri": "https://localhost:8080/"
        },
        "id": "Kb_2LSBiI4OI",
        "outputId": "739f0a6c-7de7-411a-f4dd-65b26ab541cd"
      },
      "outputs": [
        {
          "output_type": "stream",
          "name": "stdout",
          "text": [
            "Hello, World!\n"
          ]
        }
      ],
      "source": [
        "# 解答用セル\n",
        "greeting = \"Hello, World!\"\n",
        "print(greeting)"
      ]
    },
    {
      "cell_type": "markdown",
      "metadata": {
        "id": "LlgnveHKI4OJ"
      },
      "source": [
        "### 演習3\n",
        "文字列 `広島大学` を変数 `university` に代入し，`print`文を利用して変数を出力せよ"
      ]
    },
    {
      "cell_type": "code",
      "execution_count": 29,
      "metadata": {
        "colab": {
          "base_uri": "https://localhost:8080/"
        },
        "id": "jn0qxd42I4OJ",
        "outputId": "3e82cd8f-6e58-4106-aae6-3cb313a0c5c5"
      },
      "outputs": [
        {
          "output_type": "stream",
          "name": "stdout",
          "text": [
            "広島大学\n"
          ]
        }
      ],
      "source": [
        "# 解答用セル\n",
        "university = \"広島大学\"\n",
        "print(university)"
      ]
    },
    {
      "cell_type": "markdown",
      "metadata": {
        "id": "n7OC7ogII4OJ"
      },
      "source": [
        "### 演習4\n",
        "リスト `[1, 2, 3, 4, 5]` を変数 `numbers` に代入し，`print`文を利用して変数を出力せよ"
      ]
    },
    {
      "cell_type": "code",
      "execution_count": 30,
      "metadata": {
        "colab": {
          "base_uri": "https://localhost:8080/"
        },
        "id": "8jcfK4a9I4OJ",
        "outputId": "67c8db2b-85c2-4da0-a890-59fb1c45e43e"
      },
      "outputs": [
        {
          "output_type": "stream",
          "name": "stdout",
          "text": [
            "[1, 2, 3, 4, 5]\n"
          ]
        }
      ],
      "source": [
        "# 解答用セル\n",
        "numbers = [1, 2, 3, 4, 5]\n",
        "print(numbers)"
      ]
    },
    {
      "cell_type": "markdown",
      "metadata": {
        "id": "i-buVo4ZI4OJ"
      },
      "source": [
        "### 演習5\n",
        "リスト `[1, \"one\", \"1\"]` を変数 `one` に代入し，その変数の型を確認せよ\n",
        "またリストのインデキシングを用いてリストの各要素の型を確認せよ"
      ]
    },
    {
      "cell_type": "code",
      "execution_count": 31,
      "metadata": {
        "colab": {
          "base_uri": "https://localhost:8080/"
        },
        "id": "tq7I9tVMI4OJ",
        "outputId": "748605a5-85ce-4f7f-d2f9-9edab3af1fda"
      },
      "outputs": [
        {
          "output_type": "stream",
          "name": "stdout",
          "text": [
            "<class 'list'>\n",
            "<class 'int'>\n",
            "<class 'str'>\n",
            "<class 'str'>\n"
          ]
        }
      ],
      "source": [
        "# 解答用セル\n",
        "one = [1, \"one\", \"1\"]\n",
        "print(type(one))\n",
        "print(type(one[0]))\n",
        "print(type(one[1]))\n",
        "print(type(one[2]))"
      ]
    },
    {
      "cell_type": "markdown",
      "metadata": {
        "id": "anh3MuIQI4OK"
      },
      "source": [
        "## 演習：数値データの演算"
      ]
    },
    {
      "cell_type": "markdown",
      "metadata": {
        "id": "WGagEXDVI4OK"
      },
      "source": [
        "### 演習1\n",
        "整数値13が格納された変数`a`と整数値4が格納された変数`b`をそれぞれ定義し，`a`を`b`で割ったときの余りを出力せよ\n",
        "\n",
        "**出力例**\n",
        "```python\n",
        "1\n",
        "```"
      ]
    },
    {
      "cell_type": "code",
      "execution_count": 32,
      "metadata": {
        "colab": {
          "base_uri": "https://localhost:8080/"
        },
        "id": "-zvtJEYRI4OK",
        "outputId": "5f29bd7d-be86-4ea4-ffe4-74f7936d9019"
      },
      "outputs": [
        {
          "output_type": "stream",
          "name": "stdout",
          "text": [
            "1\n"
          ]
        }
      ],
      "source": [
        "# 解答用セル\n",
        "a = 13\n",
        "b = 4\n",
        "print(a % b)"
      ]
    },
    {
      "cell_type": "markdown",
      "metadata": {
        "id": "U7yNzd-NI4OK"
      },
      "source": [
        "### 演習2\n",
        "整数値13が格納された変数`a`と整数値4が格納された変数`b`をそれぞれ定義し，$a^b$の結果を出力せよ\n",
        "\n",
        "**出力例**\n",
        "```python\n",
        "28561\n",
        "```"
      ]
    },
    {
      "cell_type": "code",
      "execution_count": 33,
      "metadata": {
        "colab": {
          "base_uri": "https://localhost:8080/"
        },
        "id": "QqEIt0urI4OK",
        "outputId": "aec81628-6d85-40b7-900e-a14f84a88319"
      },
      "outputs": [
        {
          "output_type": "stream",
          "name": "stdout",
          "text": [
            "28561\n"
          ]
        }
      ],
      "source": [
        "# 解答用セル\n",
        "a = 13\n",
        "b = 4\n",
        "print(a ** b)"
      ]
    },
    {
      "cell_type": "markdown",
      "metadata": {
        "id": "CkzMVyQGI4OK"
      },
      "source": [
        "### 演習3\n",
        "$x^2 + 2x + 1$ に $x=1$ を代入したときの結果を求めよ．"
      ]
    },
    {
      "cell_type": "code",
      "execution_count": 34,
      "metadata": {
        "colab": {
          "base_uri": "https://localhost:8080/"
        },
        "id": "dBz498QkI4OK",
        "outputId": "6c1eab6f-b844-44ad-d209-3cc67428144d"
      },
      "outputs": [
        {
          "output_type": "stream",
          "name": "stdout",
          "text": [
            "4\n"
          ]
        }
      ],
      "source": [
        "# 解答用セル\n",
        "x = 1\n",
        "print(x ** 2 + 2 * x + 1)"
      ]
    },
    {
      "cell_type": "markdown",
      "metadata": {
        "id": "LKrYsSnQI4OK"
      },
      "source": [
        "### 演習4\n",
        "$\\frac{a+b+c}{3}$ に $a=1, b=2, c=3$ を代入したときの結果を求めよ．"
      ]
    },
    {
      "cell_type": "code",
      "execution_count": 35,
      "metadata": {
        "colab": {
          "base_uri": "https://localhost:8080/"
        },
        "id": "kKB4JEDhI4OK",
        "outputId": "bc074114-e648-4059-9343-cb157da47c52"
      },
      "outputs": [
        {
          "output_type": "stream",
          "name": "stdout",
          "text": [
            "2.0\n"
          ]
        }
      ],
      "source": [
        "# 解答用セル\n",
        "a = 1\n",
        "b = 2\n",
        "c = 3\n",
        "print((a + b + c) / 3)"
      ]
    },
    {
      "cell_type": "markdown",
      "metadata": {
        "id": "eouu3XzNI4OK"
      },
      "source": [
        "### 演習5\n",
        "底辺が5cm，高さが10cmのときの三角形の面積を求めよ．"
      ]
    },
    {
      "cell_type": "code",
      "execution_count": 36,
      "metadata": {
        "colab": {
          "base_uri": "https://localhost:8080/"
        },
        "id": "m-tBkf8mI4OK",
        "outputId": "5401fb48-be1b-4214-b8d3-f21b5289136b"
      },
      "outputs": [
        {
          "output_type": "stream",
          "name": "stdout",
          "text": [
            "25.0\n"
          ]
        }
      ],
      "source": [
        "# 解答用セル\n",
        "base = 5\n",
        "height = 10\n",
        "print(base * height / 2)"
      ]
    },
    {
      "cell_type": "markdown",
      "metadata": {
        "id": "-5wYhuXkI4OK"
      },
      "source": [
        "## 演習：文字列とリスト\n",
        "\n",
        "### 演習1\n",
        "文字列 \"Hello\" と \"World\" を格納した変数をそれぞれ定義して，これらを連結した結果を出力せよ．\n",
        "\n",
        "**出力例**\n",
        "```python\n",
        "HelloWorld\n",
        "```"
      ]
    },
    {
      "cell_type": "code",
      "execution_count": 37,
      "metadata": {
        "colab": {
          "base_uri": "https://localhost:8080/"
        },
        "id": "yGmJ36jQI4OK",
        "outputId": "c9c8b1c5-368f-4d26-f2b4-904b2196998d"
      },
      "outputs": [
        {
          "output_type": "stream",
          "name": "stdout",
          "text": [
            "HelloWorld\n"
          ]
        }
      ],
      "source": [
        "# 解答用セル\n",
        "a = \"Hello\"\n",
        "b = \"World\"\n",
        "print(a + b)"
      ]
    },
    {
      "cell_type": "markdown",
      "metadata": {
        "id": "7wf5OkmCI4OK"
      },
      "source": [
        "### 演習2\n",
        "以下の出力例となるような文字列を含むリストを作成せよ\n",
        "\n",
        "**出力例**\n",
        "```python\n",
        "['one', 'two', 'three']\n",
        "```"
      ]
    },
    {
      "cell_type": "code",
      "execution_count": 38,
      "metadata": {
        "colab": {
          "base_uri": "https://localhost:8080/"
        },
        "id": "3QdQGyJHI4OK",
        "outputId": "dde2f955-21cd-4e86-88fa-78629c253926"
      },
      "outputs": [
        {
          "output_type": "stream",
          "name": "stdout",
          "text": [
            "['one', 'two', 'three']\n"
          ]
        }
      ],
      "source": [
        "# 解答用セル\n",
        "l = ['one', 'two', 'three']\n",
        "print(l)"
      ]
    },
    {
      "cell_type": "markdown",
      "metadata": {
        "id": "8_GeaX0AI4OK"
      },
      "source": [
        "### 演習3\n",
        "文字列 \"abcdefghijklmn\" から偶数インデックスの文字だけを取り出し，その結果を出力せよ．\n",
        "\n",
        "**出力例**\n",
        "```python\n",
        "acegikm\n",
        "```"
      ]
    },
    {
      "cell_type": "code",
      "execution_count": 39,
      "metadata": {
        "colab": {
          "base_uri": "https://localhost:8080/"
        },
        "id": "brZF88XzI4OK",
        "outputId": "df5f78d9-d7c8-41c3-cefb-386c70d85d43"
      },
      "outputs": [
        {
          "output_type": "stream",
          "name": "stdout",
          "text": [
            "acegikm\n"
          ]
        }
      ],
      "source": [
        "# 解答用セル\n",
        "a = \"abcdefghijklmn\"\n",
        "print(a[::2])"
      ]
    },
    {
      "cell_type": "markdown",
      "metadata": {
        "id": "2tH6ZQ3II4OK"
      },
      "source": [
        "### 演習4\n",
        "文字列 \"543212345\" の中央の文字を取り出し，その結果を出力せよ．ただし文字列の長さは奇数であるとする．\n",
        "\n",
        "**出力例**\n",
        "```python\n",
        "1\n",
        "```"
      ]
    },
    {
      "cell_type": "code",
      "execution_count": 40,
      "metadata": {
        "colab": {
          "base_uri": "https://localhost:8080/"
        },
        "id": "JQzUyvIMI4OK",
        "outputId": "f0438cf0-f629-4172-8bda-64ce71fe1ff1"
      },
      "outputs": [
        {
          "output_type": "stream",
          "name": "stdout",
          "text": [
            "1\n"
          ]
        }
      ],
      "source": [
        "# 解答用セル\n",
        "a = \"543212345\"\n",
        "print(a[len(a) // 2])"
      ]
    },
    {
      "cell_type": "markdown",
      "metadata": {
        "id": "JsWc0Kb9I4OL"
      },
      "source": [
        "### 演習5\n",
        "`insert`と`remove`を用いてリスト `[1, 2, 3, 4, 5]` を1つ右に回転させよ．すなわち，出力例のように最後の要素が最初に移動する．\n",
        "\n",
        "**出力例**\n",
        "```python\n",
        "[5, 1, 2, 3, 4]\n",
        "```"
      ]
    },
    {
      "cell_type": "code",
      "execution_count": 41,
      "metadata": {
        "colab": {
          "base_uri": "https://localhost:8080/"
        },
        "id": "wBPyoTd8I4OL",
        "outputId": "ef457ada-5e8d-4d06-bf97-1120ab6fe24f"
      },
      "outputs": [
        {
          "output_type": "stream",
          "name": "stdout",
          "text": [
            "[5, 1, 2, 3, 4]\n"
          ]
        }
      ],
      "source": [
        "# 解答用セル\n",
        "l = [1, 2, 3, 4, 5]\n",
        "last = l[-1]\n",
        "l.remove(last)\n",
        "l.insert(0, last)\n",
        "print(l)"
      ]
    }
  ],
  "metadata": {
    "kernelspec": {
      "display_name": "Python 3 (ipykernel)",
      "language": "python",
      "name": "python3"
    },
    "language_info": {
      "codemirror_mode": {
        "name": "ipython",
        "version": 3
      },
      "file_extension": ".py",
      "mimetype": "text/x-python",
      "name": "python",
      "nbconvert_exporter": "python",
      "pygments_lexer": "ipython3",
      "version": "3.9.13"
    },
    "vscode": {
      "interpreter": {
        "hash": "393df73654aeede13ebb91076020de1190a2bd60e987ac18d822283f0caa6730"
      }
    },
    "colab": {
      "provenance": [],
      "include_colab_link": true
    }
  },
  "nbformat": 4,
  "nbformat_minor": 0
}